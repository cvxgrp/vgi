{
 "cells": [
  {
   "cell_type": "code",
   "execution_count": null,
   "metadata": {},
   "outputs": [],
   "source": [
    "%load_ext autoreload\n",
    "%autoreload 2"
   ]
  },
  {
   "cell_type": "code",
   "execution_count": null,
   "metadata": {},
   "outputs": [],
   "source": [
    "import numpy as np\n",
    "import matplotlib.pyplot as plt\n",
    "\n",
    "plt.rcParams[\"text.usetex\"] = True\n",
    "\n",
    "font = {\"family\": \"normal\", \"weight\": \"bold\", \"size\": 18}\n",
    "import matplotlib\n",
    "\n",
    "matplotlib.rc(\"font\", **font)\n",
    "\n",
    "from vgi import *\n",
    "from examples import *"
   ]
  },
  {
   "cell_type": "markdown",
   "metadata": {},
   "source": [
    "# Create problem instance"
   ]
  },
  {
   "cell_type": "code",
   "execution_count": null,
   "metadata": {},
   "outputs": [],
   "source": [
    "# form problem instance\n",
    "m = 6\n",
    "problem = CommitmentsProblem.create_problem_instance(m, seed=0, processes=5)\n",
    "V_lb = problem.V_lb()\n",
    "\n",
    "# to create policies without compiling with cvxpygen, set compile=False\n",
    "# create CE-MPC policy\n",
    "mpc = problem.create_policy(lookahead=30, compile=True, name=\"commitments_mpc\")\n",
    "\n",
    "# create ADP policy\n",
    "policy = problem.create_policy(compile=True, name=\"commitments_policy\", V=V_lb)"
   ]
  },
  {
   "cell_type": "markdown",
   "metadata": {},
   "source": [
    "# Run VGI"
   ]
  },
  {
   "cell_type": "code",
   "execution_count": null,
   "metadata": {},
   "outputs": [],
   "source": [
    "# run VGI\n",
    "vgi = VGI(\n",
    "    problem,\n",
    "    policy,\n",
    "    QuadGradReg(),\n",
    "    trajectory_len=50,\n",
    "    num_trajectories=1,\n",
    "    damping=0.5,\n",
    ")\n",
    "vgi_policy = vgi(20, V0=V_lb, eval_freq=1)"
   ]
  },
  {
   "cell_type": "markdown",
   "metadata": {},
   "source": [
    "# MPC"
   ]
  },
  {
   "cell_type": "code",
   "execution_count": null,
   "metadata": {},
   "outputs": [],
   "source": [
    "mpc_cost = problem.cost(mpc, seed=0)\n",
    "print(\"mpc cost: {:.2f}\".format(mpc_cost))"
   ]
  },
  {
   "cell_type": "markdown",
   "metadata": {},
   "source": [
    "# Plot VGI progress"
   ]
  },
  {
   "cell_type": "code",
   "execution_count": null,
   "metadata": {},
   "outputs": [],
   "source": [
    "vgi_steps = [50 * i for i in range(len(vgi.costs))]\n",
    "plt.figure(figsize=(8, 5))\n",
    "plt.step(vgi_steps, vgi.costs, label=\"VGI\", linewidth=4)\n",
    "plt.hlines(\n",
    "    mpc_cost,\n",
    "    0,\n",
    "    vgi_steps[-1],\n",
    "    label=\"CE-MPC\",\n",
    "    linestyles=\"dashed\",\n",
    "    color=\"orange\",\n",
    "    linewidth=4,\n",
    ")\n",
    "plt.legend()\n",
    "plt.ylabel(\"Cost\")\n",
    "plt.xlabel(\"Policy evaluations\")\n",
    "plt.tight_layout()\n",
    "plt.grid()\n",
    "plt.savefig(\"commitments_vgi_ce.pdf\", dpi=500)\n",
    "plt.show()\n",
    "\n",
    "print(\"vgi\", vgi.costs[-1], \"steps\", vgi_steps[-1])\n",
    "print(\n",
    "    vgi.costs[0],\n",
    "    vgi.costs[-1],\n",
    "    (vgi.costs[-1] - vgi.costs[0]) / vgi.costs[0],\n",
    "    (vgi.costs[-1] - mpc_cost) / mpc_cost,\n",
    ")"
   ]
  },
  {
   "cell_type": "markdown",
   "metadata": {},
   "source": [
    "# FItted value iteration"
   ]
  },
  {
   "cell_type": "code",
   "execution_count": null,
   "metadata": {},
   "outputs": [],
   "source": [
    "fvi = FVI(\n",
    "    problem,\n",
    "    policy,\n",
    "    QuadReg(),\n",
    "    trajectory_len=200,\n",
    "    num_trajectories=2,\n",
    "    damping=0.5,\n",
    ")\n",
    "fvi_policy = fvi(25, V0=V_lb, eval_freq=20)"
   ]
  },
  {
   "cell_type": "markdown",
   "metadata": {},
   "source": [
    "# COCP gradient"
   ]
  },
  {
   "cell_type": "code",
   "execution_count": null,
   "metadata": {},
   "outputs": [],
   "source": [
    "# run cocp gradient\n",
    "trajectory_len = 100\n",
    "num_trajectories = 3\n",
    "num_iters = 100\n",
    "learning_rate = 1e-4\n",
    "cocp_grad = commitment_cocp_grad(\n",
    "    problem,\n",
    "    trajectory_len,\n",
    "    num_iters,\n",
    "    learning_rate,\n",
    "    seed=2,\n",
    "    V0=V_lb,\n",
    "    num_trajectories=num_trajectories,\n",
    "    policy=policy,\n",
    "    eval_freq=10,\n",
    ")"
   ]
  },
  {
   "cell_type": "code",
   "execution_count": null,
   "metadata": {},
   "outputs": [],
   "source": []
  }
 ],
 "metadata": {
  "kernelspec": {
   "display_name": "veclib",
   "language": "python",
   "name": "python3"
  },
  "language_info": {
   "codemirror_mode": {
    "name": "ipython",
    "version": 3
   },
   "file_extension": ".py",
   "mimetype": "text/x-python",
   "name": "python",
   "nbconvert_exporter": "python",
   "pygments_lexer": "ipython3",
   "version": "3.10.8"
  },
  "orig_nbformat": 4
 },
 "nbformat": 4,
 "nbformat_minor": 2
}
