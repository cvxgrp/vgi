{
 "cells": [
  {
   "cell_type": "code",
   "execution_count": null,
   "metadata": {},
   "outputs": [],
   "source": [
    "%load_ext autoreload\n",
    "%autoreload 2"
   ]
  },
  {
   "cell_type": "code",
   "execution_count": null,
   "metadata": {},
   "outputs": [],
   "source": [
    "import numpy as np\n",
    "import matplotlib.pyplot as plt\n",
    "\n",
    "# if latex not installed, set to False and remove tex symbols from plots\n",
    "plt.rcParams[\"text.usetex\"] = True\n",
    "\n",
    "font = {\"family\": \"normal\", \"weight\": \"bold\", \"size\": 18}\n",
    "import matplotlib\n",
    "\n",
    "matplotlib.rc(\"font\", **font)\n",
    "\n",
    "from vgi import *\n",
    "from supply_chain import *"
   ]
  },
  {
   "cell_type": "markdown",
   "metadata": {},
   "source": [
    "# Create problem instance"
   ]
  },
  {
   "cell_type": "code",
   "execution_count": null,
   "metadata": {
    "scrolled": true
   },
   "outputs": [],
   "source": [
    "problem = SupplyChainProblem.create_problem_instance(processes=5)\n",
    "V_lb = problem.V_lb()\n",
    "\n",
    "# to create policies without compiling with cvxpygen, set compile=False\n",
    "# create CE-MPC policy\n",
    "mpc = problem.create_policy(lookahead=30, compile=True, name=\"supply_chain_mpc\")\n",
    "\n",
    "# create ADP policy\n",
    "cocp = problem.create_policy(compile=True, name=\"supply_chain_policy\", V=V_lb)"
   ]
  },
  {
   "cell_type": "markdown",
   "metadata": {},
   "source": [
    "# Run VGI"
   ]
  },
  {
   "cell_type": "code",
   "execution_count": null,
   "metadata": {
    "scrolled": true
   },
   "outputs": [],
   "source": [
    "# run VGI\n",
    "vgi = VGI(\n",
    "    problem,\n",
    "    cocp,\n",
    "    QuadGradReg(),\n",
    "    trajectory_len=50,\n",
    "    num_trajectories=1,\n",
    "    damping=0.5,\n",
    ")\n",
    "vgi_policy = vgi(10, V0=V_lb, eval_freq=1, seed=0)"
   ]
  },
  {
   "cell_type": "markdown",
   "metadata": {},
   "source": [
    "# MPC"
   ]
  },
  {
   "cell_type": "code",
   "execution_count": null,
   "metadata": {},
   "outputs": [],
   "source": [
    "mpc_cost = problem.cost(mpc, seed=1)\n",
    "print(\"mpc cost: {:.2f}\".format(mpc_cost))"
   ]
  },
  {
   "cell_type": "markdown",
   "metadata": {},
   "source": [
    "# Plot VGI progress"
   ]
  },
  {
   "cell_type": "code",
   "execution_count": null,
   "metadata": {},
   "outputs": [],
   "source": [
    "vgi_steps = [50 * i for i in range(len(vgi.costs))]\n",
    "plt.figure(figsize=(8, 5))\n",
    "plt.hlines(\n",
    "    mpc_cost,\n",
    "    0,\n",
    "    vgi_steps[-1],\n",
    "    label=\"CE-MPC\",\n",
    "    linestyles=\"dashed\",\n",
    "    color=\"orange\",\n",
    "    linewidth=4,\n",
    ")\n",
    "plt.step(vgi_steps, vgi.costs, label=\"VGI\", linewidth=4)\n",
    "plt.legend()\n",
    "plt.grid()\n",
    "plt.ylabel(\"Cost\")\n",
    "plt.xlabel(\"Policy evaluations\")\n",
    "plt.tight_layout()\n",
    "plt.savefig(\"supply_chain_vgi_ce.pdf\", dpi=500)\n",
    "plt.show()\n",
    "print(\"vgi\", vgi.costs[-1], \"steps\", vgi_steps[-1])\n",
    "print(vgi.costs[0], vgi.costs[-1], (vgi.costs[0] - vgi.costs[-1]) / vgi.costs[0])\n",
    "print(vgi.costs[0], vgi.costs[-1], (mpc_cost - vgi.costs[-1]) / mpc_cost)"
   ]
  },
  {
   "cell_type": "markdown",
   "metadata": {},
   "source": [
    "# Plot trajectory"
   ]
  },
  {
   "cell_type": "code",
   "execution_count": null,
   "metadata": {},
   "outputs": [],
   "source": [
    "# initial policy\n",
    "initial_cocp = cocp.clone()\n",
    "initial_cocp.update_value(vgi.iterates[0])\n",
    "\n",
    "# vgi policy\n",
    "vgi_cocp = cocp.clone()\n",
    "vgi_cocp.update_value(vgi.iterates[-1])# Save data\n",
    "\n",
    "# plot trajectory averaged over 500 simulation\n",
    "T = 50\n",
    "runs = 500\n",
    "untuned_states = np.zeros((T, problem.n))\n",
    "vgi_states = np.zeros((T, problem.n))\n",
    "for i in range(runs):\n",
    "    traj_untuned = problem.simulate(initial_cocp, T, seed=i)\n",
    "    traj_vgi = problem.simulate(vgi_cocp, T, seed=i)\n",
    "\n",
    "    untuned_states += traj_untuned.states_matrix[:, : problem.n] / runs\n",
    "    vgi_states += traj_vgi.states_matrix[:, : problem.n] / runs"
   ]
  },
  {
   "cell_type": "code",
   "execution_count": null,
   "metadata": {},
   "outputs": [],
   "source": [
    "fig, axs = plt.subplots(1, 2, figsize=(8, 3), sharey=True, dpi=500)\n",
    "\n",
    "# Plot data in the first subplot\n",
    "axs[0].plot(untuned_states[:, 0], label=\"$(h_t)_1$\", linestyle=\"solid\", linewidth=4)\n",
    "axs[0].plot(untuned_states[:, 1], label=\"$(h_t)_2$\", linestyle=\"dashed\", linewidth=4)\n",
    "axs[0].plot(untuned_states[:, 2], label=\"$(h_t)_3$\", linestyle=\"dashdot\", linewidth=4)\n",
    "axs[0].plot(untuned_states[:, 3], label=\"$(h_t)_4$\", linestyle=\"dotted\", linewidth=4)\n",
    "axs[0].set_title(\"Initial policy\")\n",
    "axs[0].set_xlabel(\"$t$\")\n",
    "axs[0].grid(True)\n",
    "axs[0].set_ylabel(\"$h_t$\")\n",
    "\n",
    "axs[1].plot(vgi_states[:, 0], label=\"$(h_t)_1$\", linestyle=\"solid\", linewidth=4)\n",
    "axs[1].plot(vgi_states[:, 1], label=\"$(h_t)_2$\", linestyle=\"dashed\", linewidth=4)\n",
    "axs[1].plot(vgi_states[:, 2], label=\"$(h_t)_3$\", linestyle=\"dashdot\", linewidth=4)\n",
    "axs[1].plot(vgi_states[:, 3], label=\"$(h_t)_4$\", linestyle=\"dotted\", linewidth=4)\n",
    "axs[1].set_title(\"VGI policy\")\n",
    "axs[1].set_xlabel(\"$t$\")\n",
    "axs[1].grid(True)\n",
    "\n",
    "# Create a legend for both plots\n",
    "handles, labels = axs[1].get_legend_handles_labels()\n",
    "fig.legend(handles, labels, loc=\"center left\", bbox_to_anchor=(0.9, 0.5))\n",
    "\n",
    "# Adjust spacing between subplots\n",
    "plt.subplots_adjust(wspace=0.1)\n",
    "plt.savefig(\"supply_chain_trajectories.pdf\", dpi=500, bbox_inches=\"tight\")\n",
    "plt.show()"
   ]
  },
  {
   "cell_type": "markdown",
   "metadata": {},
   "source": [
    "# Fitted value iteration"
   ]
  },
  {
   "cell_type": "code",
   "execution_count": null,
   "metadata": {
    "scrolled": true
   },
   "outputs": [],
   "source": [
    "fvi = FVI(\n",
    "    problem,\n",
    "    cocp,\n",
    "    QuadReg(l2_penalty=1e-4),\n",
    "    trajectory_len=400,\n",
    "    num_trajectories=2,\n",
    "    damping=0.75,\n",
    "    restart_simulations=True\n",
    ")\n",
    "fvi_policy = fvi(25, V0=V_lb, eval_freq=1, seed=1)"
   ]
  },
  {
   "cell_type": "markdown",
   "metadata": {},
   "source": [
    "# COCP gradient"
   ]
  },
  {
   "cell_type": "code",
   "execution_count": null,
   "metadata": {},
   "outputs": [],
   "source": [
    "# run cocp gradient\n",
    "trajectory_len = 100\n",
    "num_trajectories = 10\n",
    "num_iters = 100\n",
    "learning_rate = 1e-2\n",
    "cocp_grad = supply_chain_cocp_grad(\n",
    "    problem,\n",
    "    trajectory_len,\n",
    "    num_iters,\n",
    "    learning_rate,\n",
    "    seed=2,\n",
    "    l2_penalty=1e-4,\n",
    "    V0=V_lb,\n",
    "    num_trajectories=num_trajectories,\n",
    "    policy=cocp,\n",
    "    eval_freq=5,\n",
    "    restart_simulations=True,\n",
    ")"
   ]
  },
  {
   "cell_type": "markdown",
   "metadata": {},
   "source": [
    "# Save data"
   ]
  },
  {
   "cell_type": "code",
   "execution_count": null,
   "metadata": {},
   "outputs": [],
   "source": [
    "import pickle\n",
    "\n",
    "results = {\n",
    "    \"vgi\": {\"costs\": vgi.costs, \"iterates\": vgi.iterates},\n",
    "    \"fvi\": {\"costs\": fvi.costs, \"iterates\": fvi.iterates},\n",
    "    \"cocp-grad\": cocp_grad,\n",
    "}\n",
    "pickle.dump(results, open(\"supply_chain_results.pkl\", \"wb\"))"
   ]
  }
 ],
 "metadata": {
  "kernelspec": {
   "display_name": "Python 3 (ipykernel)",
   "language": "python",
   "name": "python3"
  },
  "language_info": {
   "codemirror_mode": {
    "name": "ipython",
    "version": 3
   },
   "file_extension": ".py",
   "mimetype": "text/x-python",
   "name": "python",
   "nbconvert_exporter": "python",
   "pygments_lexer": "ipython3",
   "version": "3.9.0"
  }
 },
 "nbformat": 4,
 "nbformat_minor": 2
}
