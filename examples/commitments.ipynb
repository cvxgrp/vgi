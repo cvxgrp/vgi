{
 "cells": [
  {
   "cell_type": "code",
   "execution_count": null,
   "metadata": {},
   "outputs": [],
   "source": [
    "%load_ext autoreload\n",
    "%autoreload 2"
   ]
  },
  {
   "cell_type": "code",
   "execution_count": null,
   "metadata": {},
   "outputs": [],
   "source": [
    "import numpy as np\n",
    "import matplotlib.pyplot as plt\n",
    "\n",
    "# if latex not installed, set to False and remove tex symbols from plots\n",
    "plt.rcParams[\"text.usetex\"] = True\n",
    "\n",
    "font = {\"family\": \"normal\", \"weight\": \"bold\", \"size\": 18}\n",
    "import matplotlib\n",
    "\n",
    "matplotlib.rc(\"font\", **font)\n",
    "\n",
    "from vgi import *\n",
    "from commitments import *"
   ]
  },
  {
   "cell_type": "markdown",
   "metadata": {},
   "source": [
    "# Create problem instance"
   ]
  },
  {
   "cell_type": "code",
   "execution_count": null,
   "metadata": {
    "scrolled": true
   },
   "outputs": [],
   "source": [
    "# form problem instance\n",
    "m = 6\n",
    "problem = CommitmentsProblem.create_problem_instance(m, seed=0, processes=5)\n",
    "V_lb = problem.V_lb()\n",
    "\n",
    "# to create policies without compiling with cvxpygen, set compile=False\n",
    "# create CE-MPC policy\n",
    "mpc = problem.create_policy(lookahead=30, compile=True, name=\"commitments_mpc\")\n",
    "\n",
    "# create ADP policy\n",
    "cocp = problem.create_policy(compile=True, name=\"commitments_policy\", V=V_lb)"
   ]
  },
  {
   "cell_type": "markdown",
   "metadata": {},
   "source": [
    "# Run VGI"
   ]
  },
  {
   "cell_type": "code",
   "execution_count": null,
   "metadata": {
    "scrolled": true
   },
   "outputs": [],
   "source": [
    "# run VGI\n",
    "vgi = VGI(\n",
    "    problem,\n",
    "    cocp,\n",
    "    QuadGradReg(),\n",
    "    trajectory_len=50,\n",
    "    num_trajectories=1,\n",
    "    damping=0.5,\n",
    ")\n",
    "vgi_policy = vgi(20, V0=V_lb, eval_freq=1, seed=0)"
   ]
  },
  {
   "cell_type": "markdown",
   "metadata": {},
   "source": [
    "# MPC"
   ]
  },
  {
   "cell_type": "code",
   "execution_count": null,
   "metadata": {},
   "outputs": [],
   "source": [
    "mpc_cost = problem.cost(mpc, seed=1)\n",
    "print(\"mpc cost: {:.2f}\".format(mpc_cost))"
   ]
  },
  {
   "cell_type": "markdown",
   "metadata": {},
   "source": [
    "# Plot VGI progress"
   ]
  },
  {
   "cell_type": "code",
   "execution_count": null,
   "metadata": {},
   "outputs": [],
   "source": [
    "vgi_steps = [50 * i for i in range(len(vgi.costs))]\n",
    "plt.figure(figsize=(8, 5))\n",
    "plt.step(vgi_steps, vgi.costs, label=\"VGI\", linewidth=4)\n",
    "plt.hlines(\n",
    "    mpc_cost,\n",
    "    0,\n",
    "    vgi_steps[-1],\n",
    "    label=\"CE-MPC\",\n",
    "    linestyles=\"dashed\",\n",
    "    color=\"orange\",\n",
    "    linewidth=4,\n",
    ")\n",
    "plt.legend()\n",
    "plt.ylabel(\"Cost\")\n",
    "plt.xlabel(\"Policy evaluations\")\n",
    "plt.tight_layout()\n",
    "plt.grid()\n",
    "plt.savefig(\"commitments_vgi_ce.pdf\", dpi=500)\n",
    "plt.show()\n",
    "\n",
    "print(\"vgi\", vgi.costs[-1], \"steps\", vgi_steps[-1])\n",
    "print(\n",
    "    vgi.costs[0],\n",
    "    vgi.costs[-1],\n",
    "    (vgi.costs[-1] - vgi.costs[0]) / vgi.costs[0],\n",
    "    (vgi.costs[-1] - mpc_cost) / mpc_cost,\n",
    ")"
   ]
  },
  {
   "cell_type": "markdown",
   "metadata": {},
   "source": [
    "# Plot trajectory"
   ]
  },
  {
   "cell_type": "code",
   "execution_count": null,
   "metadata": {},
   "outputs": [],
   "source": [
    "# vgi policy\n",
    "vgi_cocp = cocp.clone()\n",
    "vgi_cocp.update_value(vgi.iterates[-1])\n",
    "\n",
    "# simulate vgi policy\n",
    "T = 50\n",
    "traj = problem.simulate(vgi_cocp, T, seed=0)\n",
    "vgi_states = traj.states_matrix\n",
    "vgi_controls = traj.controls_matrix\n",
    "\n",
    "# plot trajectory for one asset\n",
    "asset = 1\n",
    "fig, axs = plt.subplots(3, 1, figsize=(8, 6), sharex=True, dpi=500)\n",
    "\n",
    "axs[0].plot(vgi_controls[:, asset], linewidth=4, color=\"purple\")\n",
    "axs[0].hlines(\n",
    "    problem.u_ss[asset],\n",
    "    0,\n",
    "    T,\n",
    "    color=\"black\",\n",
    "    linestyle=\"dashed\",\n",
    "    label=\"$u^{\\\\textrm{sso}}_1$\",\n",
    "    linewidth=4,\n",
    ")\n",
    "axs[0].set_ylabel(\"$(u_t)_1$\")\n",
    "axs[0].legend(loc=\"upper right\")\n",
    "axs[0].grid(True)\n",
    "\n",
    "axs[1].plot(vgi_states[:, asset], linewidth=4)\n",
    "axs[1].hlines(\n",
    "    problem.target_nav[asset],\n",
    "    0,\n",
    "    T,\n",
    "    color=\"orange\",\n",
    "    linestyle=\"dashed\",\n",
    "    label=\"$n^{\\\\textrm{tar}}_1$\",\n",
    "    linewidth=4,\n",
    ")\n",
    "axs[1].set_ylabel(\"$(n_t)_1$\")\n",
    "axs[1].legend(loc=\"upper right\")\n",
    "axs[1].grid(True)\n",
    "\n",
    "axs[2].plot(vgi_states[:, asset + 6], linewidth=4, color=\"green\")\n",
    "axs[2].set_ylabel(\"$(l_t)_1$\")\n",
    "axs[2].grid(True)\n",
    "axs[2].set_xlabel(\"Quarters $t$\")\n",
    "plt.savefig(\"commitments_trajectory.pdf\", bbox_inches=\"tight\")\n",
    "plt.show()"
   ]
  },
  {
   "cell_type": "markdown",
   "metadata": {},
   "source": [
    "# Fitted value iteration"
   ]
  },
  {
   "cell_type": "code",
   "execution_count": null,
   "metadata": {
    "scrolled": true
   },
   "outputs": [],
   "source": [
    "fvi = FVI(\n",
    "    problem,\n",
    "    cocp,\n",
    "    QuadReg(),\n",
    "    trajectory_len=100,\n",
    "    num_trajectories=2,\n",
    "    damping=0.5,\n",
    ")\n",
    "fvi_policy = fvi(20, V0=V_lb, eval_freq=5, seed=1)"
   ]
  },
  {
   "cell_type": "markdown",
   "metadata": {},
   "source": [
    "# COCP gradient"
   ]
  },
  {
   "cell_type": "code",
   "execution_count": null,
   "metadata": {
    "scrolled": true
   },
   "outputs": [],
   "source": [
    "# run cocp gradient\n",
    "trajectory_len = 100\n",
    "num_trajectories = 2\n",
    "num_iters = 200\n",
    "learning_rate = 5e-5\n",
    "cocp_grad = commitment_cocp_grad(\n",
    "    problem,\n",
    "    trajectory_len,\n",
    "    num_iters,\n",
    "    learning_rate,\n",
    "    seed=2,\n",
    "    V0=V_lb,\n",
    "    num_trajectories=num_trajectories,\n",
    "    policy=cocp,\n",
    "    eval_freq=5,\n",
    "    restart_simulations=False,\n",
    ")"
   ]
  },
  {
   "cell_type": "markdown",
   "metadata": {},
   "source": [
    "# Save data"
   ]
  },
  {
   "cell_type": "code",
   "execution_count": null,
   "metadata": {},
   "outputs": [],
   "source": [
    "import pickle\n",
    "\n",
    "results = {\n",
    "    \"vgi\": {\"costs\": vgi.costs, \"iterates\": vgi.iterates},\n",
    "    \"fvi\": {\"costs\": fvi.costs, \"iterates\": fvi.iterates},\n",
    "    \"cocp-grad\": cocp_grad,\n",
    "}\n",
    "pickle.dump(results, open(\"commitments_results.pkl\", \"wb\"))"
   ]
  }
 ],
 "metadata": {
  "kernelspec": {
   "display_name": "Python 3 (ipykernel)",
   "language": "python",
   "name": "python3"
  },
  "language_info": {
   "codemirror_mode": {
    "name": "ipython",
    "version": 3
   },
   "file_extension": ".py",
   "mimetype": "text/x-python",
   "name": "python",
   "nbconvert_exporter": "python",
   "pygments_lexer": "ipython3",
   "version": "3.9.0"
  }
 },
 "nbformat": 4,
 "nbformat_minor": 2
}
