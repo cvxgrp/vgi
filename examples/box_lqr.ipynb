{
 "cells": [
  {
   "cell_type": "code",
   "execution_count": null,
   "metadata": {},
   "outputs": [],
   "source": [
    "%load_ext autoreload\n",
    "%autoreload 2"
   ]
  },
  {
   "cell_type": "code",
   "execution_count": null,
   "metadata": {},
   "outputs": [],
   "source": [
    "import numpy as np\n",
    "import matplotlib.pyplot as plt\n",
    "\n",
    "# if latex not installed, set to False and remove tex symbols from plots\n",
    "plt.rcParams[\"text.usetex\"] = True\n",
    "\n",
    "font = {\"family\": \"normal\", \"weight\": \"bold\", \"size\": 18}\n",
    "import matplotlib\n",
    "\n",
    "matplotlib.rc(\"font\", **font)\n",
    "\n",
    "from vgi import *\n",
    "from box_lqr import *"
   ]
  },
  {
   "cell_type": "markdown",
   "metadata": {},
   "source": [
    "# Create problem instance"
   ]
  },
  {
   "cell_type": "code",
   "execution_count": null,
   "metadata": {
    "scrolled": true
   },
   "outputs": [],
   "source": [
    "n, m = 12, 3\n",
    "problem = BoxLQRProblem.create_problem_instance(n, m, seed=1, processes=5)\n",
    "J_lb, V_lb = problem.J_lb()\n",
    "\n",
    "# to create policies without compiling with cvxpygen, set compile=False\n",
    "# create CE-MPC policy\n",
    "mpc = problem.create_policy(lookahead=30, compile=True, name=\"box_lqr_mpc\")\n",
    "\n",
    "# create ADP policy\n",
    "cocp = problem.create_policy(compile=True, name=\"box_lqr_policy\", V=V_lb)"
   ]
  },
  {
   "cell_type": "markdown",
   "metadata": {},
   "source": [
    "# Run VGI"
   ]
  },
  {
   "cell_type": "code",
   "execution_count": null,
   "metadata": {
    "scrolled": true
   },
   "outputs": [],
   "source": [
    "vgi = VGI(\n",
    "    problem,\n",
    "    cocp,\n",
    "    QuadGradReg(symmetric=True),\n",
    "    trajectory_len=50,\n",
    "    num_trajectories=1,\n",
    "    damping=0.5,\n",
    ")\n",
    "vgi_policy = vgi(40, V0=QuadForm.eye(n), eval_freq=1, seed=0)"
   ]
  },
  {
   "cell_type": "markdown",
   "metadata": {},
   "source": [
    "# MPC and upper and lower bounds"
   ]
  },
  {
   "cell_type": "code",
   "execution_count": null,
   "metadata": {},
   "outputs": [],
   "source": [
    "print(\"lower bound: {:.2f}\".format(J_lb))\n",
    "\n",
    "cocp.update_value(V_lb)\n",
    "J_ub = problem.cost(cocp, seed=1)\n",
    "print(\"upper bound: {:.2f}\".format(J_ub))\n",
    "\n",
    "mpc_cost = problem.cost(mpc, seed=1)\n",
    "print(\"mpc cost: {:.2f}\".format(mpc_cost))"
   ]
  },
  {
   "cell_type": "markdown",
   "metadata": {},
   "source": [
    "# Plot VGI progress"
   ]
  },
  {
   "cell_type": "code",
   "execution_count": null,
   "metadata": {},
   "outputs": [],
   "source": [
    "vgi_steps = [50 * i for i in range(len(vgi.costs))]\n",
    "\n",
    "plt.figure(figsize=(8, 5))\n",
    "plt.hlines(\n",
    "    J_ub,\n",
    "    0,\n",
    "    vgi_steps[-1],\n",
    "    label=\"Upper bound\",\n",
    "    linestyles=\"dotted\",\n",
    "    color=\"green\",\n",
    "    linewidth=4,\n",
    ")\n",
    "plt.hlines(\n",
    "    J_lb,\n",
    "    0,\n",
    "    vgi_steps[-1],\n",
    "    label=\"Lower bound\",\n",
    "    linestyles=\"solid\",\n",
    "    color=\"purple\",\n",
    "    linewidth=4,\n",
    ")\n",
    "plt.hlines(\n",
    "    mpc_cost,\n",
    "    0,\n",
    "    vgi_steps[-1],\n",
    "    label=\"CE-MPC\",\n",
    "    linestyles=\"dashed\",\n",
    "    color=\"orange\",\n",
    "    linewidth=4,\n",
    ")\n",
    "plt.step(vgi_steps, vgi.costs, label=\"VGI\", linewidth=4)\n",
    "plt.grid()\n",
    "plt.legend()\n",
    "plt.ylabel(\"Cost\")\n",
    "plt.xlabel(\"Total policy evaluations\")\n",
    "plt.tight_layout()\n",
    "plt.savefig(\"lqr_vgi_ce.pdf\", dpi=500)\n",
    "plt.show()\n",
    "\n",
    "print(\"vgi\", vgi.costs[-1], \"steps\", vgi_steps[-1])\n",
    "print(vgi.costs[0], vgi.costs[-1], (vgi.costs[-1] - vgi.costs[0]) / vgi.costs[0])\n",
    "print((vgi.costs[-1] - mpc_cost) / mpc_cost)"
   ]
  },
  {
   "cell_type": "markdown",
   "metadata": {},
   "source": [
    "# Fitted value iteration"
   ]
  },
  {
   "cell_type": "code",
   "execution_count": null,
   "metadata": {
    "scrolled": true
   },
   "outputs": [],
   "source": [
    "fvi = FVI(\n",
    "    problem,\n",
    "    cocp,\n",
    "    QuadReg(symmetric=True),\n",
    "    trajectory_len=200,\n",
    "    num_trajectories=2,\n",
    "    damping=0.5,\n",
    ")\n",
    "fvi_policy = fvi(50, V0=QuadForm.eye(n), eval_freq=5, seed=1)"
   ]
  },
  {
   "cell_type": "markdown",
   "metadata": {},
   "source": [
    "# COCP gradient"
   ]
  },
  {
   "cell_type": "code",
   "execution_count": null,
   "metadata": {},
   "outputs": [],
   "source": [
    "trajectory_len = 100\n",
    "num_trajectories = 3\n",
    "num_iters = 100\n",
    "learning_rate = 1e-2\n",
    "cocp_grad = box_lqr_cocp_grad(\n",
    "    problem,\n",
    "    trajectory_len,\n",
    "    num_iters,\n",
    "    learning_rate,\n",
    "    seed=2,\n",
    "    V0=QuadForm.eye(n),\n",
    "    num_trajectories=num_trajectories,\n",
    "    policy=cocp,\n",
    "    eval_freq=10,\n",
    ")"
   ]
  },
  {
   "cell_type": "markdown",
   "metadata": {},
   "source": [
    "# Save data"
   ]
  },
  {
   "cell_type": "code",
   "execution_count": null,
   "metadata": {},
   "outputs": [],
   "source": [
    "import pickle\n",
    "\n",
    "results = {\n",
    "    \"vgi\": {\"costs\": vgi.costs, \"iterates\": vgi.iterates},\n",
    "    \"fvi\": {\"costs\": fvi.costs, \"iterates\": fvi.iterates},\n",
    "    \"cocp-grad\": cocp_grad,\n",
    "}\n",
    "pickle.dump(results, open(\"box_lqr_results.pkl\", \"wb\"))"
   ]
  }
 ],
 "metadata": {
  "kernelspec": {
   "display_name": "Python 3 (ipykernel)",
   "language": "python",
   "name": "python3"
  },
  "language_info": {
   "codemirror_mode": {
    "name": "ipython",
    "version": 3
   },
   "file_extension": ".py",
   "mimetype": "text/x-python",
   "name": "python",
   "nbconvert_exporter": "python",
   "pygments_lexer": "ipython3",
   "version": "3.9.0"
  }
 },
 "nbformat": 4,
 "nbformat_minor": 2
}
