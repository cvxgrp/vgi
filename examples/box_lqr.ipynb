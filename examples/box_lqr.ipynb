{
 "cells": [
  {
   "cell_type": "code",
   "execution_count": 1,
   "metadata": {},
   "outputs": [],
   "source": [
    "%load_ext autoreload\n",
    "%autoreload 2"
   ]
  },
  {
   "cell_type": "code",
   "execution_count": 2,
   "metadata": {},
   "outputs": [],
   "source": [
    "import numpy as np\n",
    "import matplotlib.pyplot as plt\n",
    "\n",
    "# if latex not installed, set to False and remove tex symbols from plots\n",
    "plt.rcParams[\"text.usetex\"] = True\n",
    "\n",
    "font = {\"family\": \"normal\", \"weight\": \"bold\", \"size\": 18}\n",
    "import matplotlib\n",
    "\n",
    "matplotlib.rc(\"font\", **font)\n",
    "\n",
    "from vgi import *\n",
    "from box_lqr import *"
   ]
  },
  {
   "cell_type": "markdown",
   "metadata": {},
   "source": [
    "# Create problem instance"
   ]
  },
  {
   "cell_type": "code",
   "execution_count": 3,
   "metadata": {
    "scrolled": true
   },
   "outputs": [
    {
     "name": "stdout",
     "output_type": "stream",
     "text": [
      "Generating code with CVXPYgen ...\n",
      "CVXPYgen finished generating code.\n",
      "Compiling python wrapper with CVXPYgen ... \n"
     ]
    },
    {
     "name": "stderr",
     "output_type": "stream",
     "text": [
      "/opt/homebrew/Caskroom/miniforge/base/envs/veclib/lib/python3.10/site-packages/setuptools/__init__.py:85: _DeprecatedInstaller: setuptools.installer and fetch_build_eggs are deprecated. Requirements should be satisfied by a PEP 517 installer. If you are using pip, you can try `pip install --use-pep517`.\n",
      "  dist.fetch_build_eggs(dist.setup_requires)\n"
     ]
    },
    {
     "name": "stdout",
     "output_type": "stream",
     "text": [
      "-- The C compiler identification is AppleClang 14.0.3.14030022\n",
      "-- The CXX compiler identification is AppleClang 14.0.3.14030022\n",
      "-- Detecting C compiler ABI info\n",
      "-- Detecting C compiler ABI info - done\n",
      "-- Check for working C compiler: /Library/Developer/CommandLineTools/usr/bin/cc - skipped\n",
      "-- Detecting C compile features\n",
      "-- Detecting C compile features - done\n",
      "-- Detecting CXX compiler ABI info\n",
      "-- Detecting CXX compiler ABI info - done\n",
      "-- Check for working CXX compiler: /Library/Developer/CommandLineTools/usr/bin/c++ - skipped\n",
      "-- Detecting CXX compile features\n",
      "-- Detecting CXX compile features - done\n",
      "-- Configuring done\n",
      "-- Generating done\n",
      "-- Build files have been written to: /Users/alan/Documents/GitHub/vgi/examples/VGI_code/VGI_code_box_lqr_mpc/c/build\n",
      "[  3%] \u001b[32mBuilding C object CMakeFiles/cpg.dir/src/cpg_workspace.c.o\u001b[0m\n",
      "[  6%] \u001b[32mBuilding C object CMakeFiles/cpg.dir/src/cpg_solve.c.o\u001b[0m\n",
      "[ 10%] \u001b[32mBuilding C object CMakeFiles/cpg.dir/solver_code/external/amd/src/amd_1.c.o\u001b[0m\n",
      "[ 13%] \u001b[32mBuilding C object CMakeFiles/cpg.dir/solver_code/external/amd/src/amd_2.c.o\u001b[0m\n",
      "[ 16%] \u001b[32mBuilding C object CMakeFiles/cpg.dir/solver_code/external/amd/src/amd_aat.c.o\u001b[0m\n",
      "[ 20%] \u001b[32mBuilding C object CMakeFiles/cpg.dir/solver_code/external/amd/src/amd_control.c.o\u001b[0m\n",
      "[ 23%] \u001b[32mBuilding C object CMakeFiles/cpg.dir/solver_code/external/amd/src/amd_defaults.c.o\u001b[0m\n",
      "[ 26%] \u001b[32mBuilding C object CMakeFiles/cpg.dir/solver_code/external/amd/src/amd_dump.c.o\u001b[0m\n",
      "[ 30%] \u001b[32mBuilding C object CMakeFiles/cpg.dir/solver_code/external/amd/src/amd_global.c.o\u001b[0m\n",
      "[ 33%] \u001b[32mBuilding C object CMakeFiles/cpg.dir/solver_code/external/amd/src/amd_info.c.o\u001b[0m\n",
      "[ 36%] \u001b[32mBuilding C object CMakeFiles/cpg.dir/solver_code/external/amd/src/amd_order.c.o\u001b[0m\n",
      "[ 40%] \u001b[32mBuilding C object CMakeFiles/cpg.dir/solver_code/external/amd/src/amd_post_tree.c.o\u001b[0m\n",
      "[ 43%] \u001b[32mBuilding C object CMakeFiles/cpg.dir/solver_code/external/amd/src/amd_postorder.c.o\u001b[0m\n",
      "[ 46%] \u001b[32mBuilding C object CMakeFiles/cpg.dir/solver_code/external/amd/src/amd_preprocess.c.o\u001b[0m\n",
      "[ 50%] \u001b[32mBuilding C object CMakeFiles/cpg.dir/solver_code/external/amd/src/amd_valid.c.o\u001b[0m\n",
      "[ 53%] \u001b[32mBuilding C object CMakeFiles/cpg.dir/solver_code/external/ldl/src/ldl.c.o\u001b[0m\n",
      "[ 56%] \u001b[32mBuilding C object CMakeFiles/cpg.dir/solver_code/src/cone.c.o\u001b[0m\n",
      "[ 60%] \u001b[32mBuilding C object CMakeFiles/cpg.dir/solver_code/src/ctrlc.c.o\u001b[0m\n",
      "[ 63%] \u001b[32mBuilding C object CMakeFiles/cpg.dir/solver_code/src/ecos.c.o\u001b[0m\n",
      "[ 66%] \u001b[32mBuilding C object CMakeFiles/cpg.dir/solver_code/src/equil.c.o\u001b[0m\n",
      "[ 70%] \u001b[32mBuilding C object CMakeFiles/cpg.dir/solver_code/src/expcone.c.o\u001b[0m\n",
      "[ 73%] \u001b[32mBuilding C object CMakeFiles/cpg.dir/solver_code/src/kkt.c.o\u001b[0m\n",
      "[ 76%] \u001b[32mBuilding C object CMakeFiles/cpg.dir/solver_code/src/preproc.c.o\u001b[0m\n",
      "[ 80%] \u001b[32mBuilding C object CMakeFiles/cpg.dir/solver_code/src/spla.c.o\u001b[0m\n",
      "[ 83%] \u001b[32mBuilding C object CMakeFiles/cpg.dir/solver_code/src/splamm.c.o\u001b[0m\n",
      "[ 86%] \u001b[32mBuilding C object CMakeFiles/cpg.dir/solver_code/src/timer.c.o\u001b[0m\n",
      "[ 90%] \u001b[32mBuilding C object CMakeFiles/cpg.dir/solver_code/src/wright_omega.c.o\u001b[0m\n",
      "[ 93%] \u001b[32mBuilding C object CMakeFiles/cpg.dir/solver_code/ecos_bb/ecos_bb.c.o\u001b[0m\n",
      "[ 96%] \u001b[32mBuilding C object CMakeFiles/cpg.dir/solver_code/ecos_bb/ecos_bb_preproc.c.o\u001b[0m\n",
      "[100%] \u001b[32m\u001b[1mLinking C static library out/libcpg.a\u001b[0m\n",
      "[100%] Built target cpg\n"
     ]
    },
    {
     "name": "stderr",
     "output_type": "stream",
     "text": [
      "ld: warning: object file (/Users/alan/Documents/GitHub/vgi/examples/VGI_code/VGI_code_box_lqr_mpc/c/build/out/libcpg.a(cpg_workspace.c.o)) was built for newer macOS version (13.0) than being linked (11.0)\n",
      "ld: warning: object file (/Users/alan/Documents/GitHub/vgi/examples/VGI_code/VGI_code_box_lqr_mpc/c/build/out/libcpg.a(cpg_solve.c.o)) was built for newer macOS version (13.0) than being linked (11.0)\n",
      "ld: warning: object file (/Users/alan/Documents/GitHub/vgi/examples/VGI_code/VGI_code_box_lqr_mpc/c/build/out/libcpg.a(amd_1.c.o)) was built for newer macOS version (13.0) than being linked (11.0)\n",
      "ld: warning: object file (/Users/alan/Documents/GitHub/vgi/examples/VGI_code/VGI_code_box_lqr_mpc/c/build/out/libcpg.a(amd_2.c.o)) was built for newer macOS version (13.0) than being linked (11.0)\n",
      "ld: warning: object file (/Users/alan/Documents/GitHub/vgi/examples/VGI_code/VGI_code_box_lqr_mpc/c/build/out/libcpg.a(amd_aat.c.o)) was built for newer macOS version (13.0) than being linked (11.0)\n",
      "ld: warning: object file (/Users/alan/Documents/GitHub/vgi/examples/VGI_code/VGI_code_box_lqr_mpc/c/build/out/libcpg.a(amd_control.c.o)) was built for newer macOS version (13.0) than being linked (11.0)\n",
      "ld: warning: object file (/Users/alan/Documents/GitHub/vgi/examples/VGI_code/VGI_code_box_lqr_mpc/c/build/out/libcpg.a(amd_defaults.c.o)) was built for newer macOS version (13.0) than being linked (11.0)\n",
      "ld: warning: object file (/Users/alan/Documents/GitHub/vgi/examples/VGI_code/VGI_code_box_lqr_mpc/c/build/out/libcpg.a(amd_dump.c.o)) was built for newer macOS version (13.0) than being linked (11.0)\n",
      "ld: warning: object file (/Users/alan/Documents/GitHub/vgi/examples/VGI_code/VGI_code_box_lqr_mpc/c/build/out/libcpg.a(amd_global.c.o)) was built for newer macOS version (13.0) than being linked (11.0)\n",
      "ld: warning: object file (/Users/alan/Documents/GitHub/vgi/examples/VGI_code/VGI_code_box_lqr_mpc/c/build/out/libcpg.a(amd_info.c.o)) was built for newer macOS version (13.0) than being linked (11.0)\n",
      "ld: warning: object file (/Users/alan/Documents/GitHub/vgi/examples/VGI_code/VGI_code_box_lqr_mpc/c/build/out/libcpg.a(amd_order.c.o)) was built for newer macOS version (13.0) than being linked (11.0)\n",
      "ld: warning: object file (/Users/alan/Documents/GitHub/vgi/examples/VGI_code/VGI_code_box_lqr_mpc/c/build/out/libcpg.a(amd_post_tree.c.o)) was built for newer macOS version (13.0) than being linked (11.0)\n",
      "ld: warning: object file (/Users/alan/Documents/GitHub/vgi/examples/VGI_code/VGI_code_box_lqr_mpc/c/build/out/libcpg.a(amd_postorder.c.o)) was built for newer macOS version (13.0) than being linked (11.0)\n",
      "ld: warning: object file (/Users/alan/Documents/GitHub/vgi/examples/VGI_code/VGI_code_box_lqr_mpc/c/build/out/libcpg.a(amd_preprocess.c.o)) was built for newer macOS version (13.0) than being linked (11.0)\n",
      "ld: warning: object file (/Users/alan/Documents/GitHub/vgi/examples/VGI_code/VGI_code_box_lqr_mpc/c/build/out/libcpg.a(amd_valid.c.o)) was built for newer macOS version (13.0) than being linked (11.0)\n",
      "ld: warning: object file (/Users/alan/Documents/GitHub/vgi/examples/VGI_code/VGI_code_box_lqr_mpc/c/build/out/libcpg.a(ldl.c.o)) was built for newer macOS version (13.0) than being linked (11.0)\n",
      "ld: warning: object file (/Users/alan/Documents/GitHub/vgi/examples/VGI_code/VGI_code_box_lqr_mpc/c/build/out/libcpg.a(cone.c.o)) was built for newer macOS version (13.0) than being linked (11.0)\n",
      "ld: warning: object file (/Users/alan/Documents/GitHub/vgi/examples/VGI_code/VGI_code_box_lqr_mpc/c/build/out/libcpg.a(ctrlc.c.o)) was built for newer macOS version (13.0) than being linked (11.0)\n",
      "ld: warning: object file (/Users/alan/Documents/GitHub/vgi/examples/VGI_code/VGI_code_box_lqr_mpc/c/build/out/libcpg.a(ecos.c.o)) was built for newer macOS version (13.0) than being linked (11.0)\n",
      "ld: warning: object file (/Users/alan/Documents/GitHub/vgi/examples/VGI_code/VGI_code_box_lqr_mpc/c/build/out/libcpg.a(equil.c.o)) was built for newer macOS version (13.0) than being linked (11.0)\n",
      "ld: warning: object file (/Users/alan/Documents/GitHub/vgi/examples/VGI_code/VGI_code_box_lqr_mpc/c/build/out/libcpg.a(expcone.c.o)) was built for newer macOS version (13.0) than being linked (11.0)\n",
      "ld: warning: object file (/Users/alan/Documents/GitHub/vgi/examples/VGI_code/VGI_code_box_lqr_mpc/c/build/out/libcpg.a(kkt.c.o)) was built for newer macOS version (13.0) than being linked (11.0)\n",
      "ld: warning: object file (/Users/alan/Documents/GitHub/vgi/examples/VGI_code/VGI_code_box_lqr_mpc/c/build/out/libcpg.a(preproc.c.o)) was built for newer macOS version (13.0) than being linked (11.0)\n",
      "ld: warning: object file (/Users/alan/Documents/GitHub/vgi/examples/VGI_code/VGI_code_box_lqr_mpc/c/build/out/libcpg.a(spla.c.o)) was built for newer macOS version (13.0) than being linked (11.0)\n",
      "ld: warning: object file (/Users/alan/Documents/GitHub/vgi/examples/VGI_code/VGI_code_box_lqr_mpc/c/build/out/libcpg.a(splamm.c.o)) was built for newer macOS version (13.0) than being linked (11.0)\n",
      "ld: warning: object file (/Users/alan/Documents/GitHub/vgi/examples/VGI_code/VGI_code_box_lqr_mpc/c/build/out/libcpg.a(timer.c.o)) was built for newer macOS version (13.0) than being linked (11.0)\n",
      "ld: warning: object file (/Users/alan/Documents/GitHub/vgi/examples/VGI_code/VGI_code_box_lqr_mpc/c/build/out/libcpg.a(wright_omega.c.o)) was built for newer macOS version (13.0) than being linked (11.0)\n",
      "ld: warning: object file (/Users/alan/Documents/GitHub/vgi/examples/VGI_code/VGI_code_box_lqr_mpc/c/build/out/libcpg.a(ecos_bb.c.o)) was built for newer macOS version (13.0) than being linked (11.0)\n",
      "ld: warning: object file (/Users/alan/Documents/GitHub/vgi/examples/VGI_code/VGI_code_box_lqr_mpc/c/build/out/libcpg.a(ecos_bb_preproc.c.o)) was built for newer macOS version (13.0) than being linked (11.0)\n"
     ]
    },
    {
     "name": "stdout",
     "output_type": "stream",
     "text": [
      "CVXPYgen finished compiling python wrapper.\n",
      "Generating code with CVXPYgen ...\n",
      "CVXPYgen finished generating code.\n",
      "Compiling python wrapper with CVXPYgen ... \n"
     ]
    },
    {
     "name": "stderr",
     "output_type": "stream",
     "text": [
      "/opt/homebrew/Caskroom/miniforge/base/envs/veclib/lib/python3.10/site-packages/setuptools/__init__.py:85: _DeprecatedInstaller: setuptools.installer and fetch_build_eggs are deprecated. Requirements should be satisfied by a PEP 517 installer. If you are using pip, you can try `pip install --use-pep517`.\n",
      "  dist.fetch_build_eggs(dist.setup_requires)\n"
     ]
    },
    {
     "name": "stdout",
     "output_type": "stream",
     "text": [
      "-- The C compiler identification is AppleClang 14.0.3.14030022\n",
      "-- The CXX compiler identification is AppleClang 14.0.3.14030022\n",
      "-- Detecting C compiler ABI info\n",
      "-- Detecting C compiler ABI info - done\n",
      "-- Check for working C compiler: /Library/Developer/CommandLineTools/usr/bin/cc - skipped\n",
      "-- Detecting C compile features\n",
      "-- Detecting C compile features - done\n",
      "-- Detecting CXX compiler ABI info\n",
      "-- Detecting CXX compiler ABI info - done\n",
      "-- Check for working CXX compiler: /Library/Developer/CommandLineTools/usr/bin/c++ - skipped\n",
      "-- Detecting CXX compile features\n",
      "-- Detecting CXX compile features - done\n",
      "-- Configuring done\n",
      "-- Generating done\n",
      "-- Build files have been written to: /Users/alan/Documents/GitHub/vgi/examples/VGI_code/VGI_code_box_lqr_policy/c/build\n",
      "[  3%] \u001b[32mBuilding C object CMakeFiles/cpg.dir/src/cpg_workspace.c.o\u001b[0m\n",
      "[  6%] \u001b[32mBuilding C object CMakeFiles/cpg.dir/src/cpg_solve.c.o\u001b[0m\n",
      "[ 10%] \u001b[32mBuilding C object CMakeFiles/cpg.dir/solver_code/external/amd/src/amd_1.c.o\u001b[0m\n",
      "[ 13%] \u001b[32mBuilding C object CMakeFiles/cpg.dir/solver_code/external/amd/src/amd_2.c.o\u001b[0m\n",
      "[ 16%] \u001b[32mBuilding C object CMakeFiles/cpg.dir/solver_code/external/amd/src/amd_aat.c.o\u001b[0m\n",
      "[ 20%] \u001b[32mBuilding C object CMakeFiles/cpg.dir/solver_code/external/amd/src/amd_control.c.o\u001b[0m\n",
      "[ 23%] \u001b[32mBuilding C object CMakeFiles/cpg.dir/solver_code/external/amd/src/amd_defaults.c.o\u001b[0m\n",
      "[ 26%] \u001b[32mBuilding C object CMakeFiles/cpg.dir/solver_code/external/amd/src/amd_dump.c.o\u001b[0m\n",
      "[ 30%] \u001b[32mBuilding C object CMakeFiles/cpg.dir/solver_code/external/amd/src/amd_global.c.o\u001b[0m\n",
      "[ 33%] \u001b[32mBuilding C object CMakeFiles/cpg.dir/solver_code/external/amd/src/amd_info.c.o\u001b[0m\n",
      "[ 36%] \u001b[32mBuilding C object CMakeFiles/cpg.dir/solver_code/external/amd/src/amd_order.c.o\u001b[0m\n",
      "[ 40%] \u001b[32mBuilding C object CMakeFiles/cpg.dir/solver_code/external/amd/src/amd_post_tree.c.o\u001b[0m\n",
      "[ 43%] \u001b[32mBuilding C object CMakeFiles/cpg.dir/solver_code/external/amd/src/amd_postorder.c.o\u001b[0m\n",
      "[ 46%] \u001b[32mBuilding C object CMakeFiles/cpg.dir/solver_code/external/amd/src/amd_preprocess.c.o\u001b[0m\n",
      "[ 50%] \u001b[32mBuilding C object CMakeFiles/cpg.dir/solver_code/external/amd/src/amd_valid.c.o\u001b[0m\n",
      "[ 53%] \u001b[32mBuilding C object CMakeFiles/cpg.dir/solver_code/external/ldl/src/ldl.c.o\u001b[0m\n",
      "[ 56%] \u001b[32mBuilding C object CMakeFiles/cpg.dir/solver_code/src/cone.c.o\u001b[0m\n",
      "[ 60%] \u001b[32mBuilding C object CMakeFiles/cpg.dir/solver_code/src/ctrlc.c.o\u001b[0m\n",
      "[ 63%] \u001b[32mBuilding C object CMakeFiles/cpg.dir/solver_code/src/ecos.c.o\u001b[0m\n",
      "[ 66%] \u001b[32mBuilding C object CMakeFiles/cpg.dir/solver_code/src/equil.c.o\u001b[0m\n",
      "[ 70%] \u001b[32mBuilding C object CMakeFiles/cpg.dir/solver_code/src/expcone.c.o\u001b[0m\n",
      "[ 73%] \u001b[32mBuilding C object CMakeFiles/cpg.dir/solver_code/src/kkt.c.o\u001b[0m\n",
      "[ 76%] \u001b[32mBuilding C object CMakeFiles/cpg.dir/solver_code/src/preproc.c.o\u001b[0m\n",
      "[ 80%] \u001b[32mBuilding C object CMakeFiles/cpg.dir/solver_code/src/spla.c.o\u001b[0m\n",
      "[ 83%] \u001b[32mBuilding C object CMakeFiles/cpg.dir/solver_code/src/splamm.c.o\u001b[0m\n",
      "[ 86%] \u001b[32mBuilding C object CMakeFiles/cpg.dir/solver_code/src/timer.c.o\u001b[0m\n",
      "[ 90%] \u001b[32mBuilding C object CMakeFiles/cpg.dir/solver_code/src/wright_omega.c.o\u001b[0m\n",
      "[ 93%] \u001b[32mBuilding C object CMakeFiles/cpg.dir/solver_code/ecos_bb/ecos_bb.c.o\u001b[0m\n",
      "[ 96%] \u001b[32mBuilding C object CMakeFiles/cpg.dir/solver_code/ecos_bb/ecos_bb_preproc.c.o\u001b[0m\n",
      "[100%] \u001b[32m\u001b[1mLinking C static library out/libcpg.a\u001b[0m\n",
      "[100%] Built target cpg\n"
     ]
    },
    {
     "name": "stderr",
     "output_type": "stream",
     "text": [
      "ld: warning: object file (/Users/alan/Documents/GitHub/vgi/examples/VGI_code/VGI_code_box_lqr_policy/c/build/out/libcpg.a(cpg_workspace.c.o)) was built for newer macOS version (13.0) than being linked (11.0)\n",
      "ld: warning: object file (/Users/alan/Documents/GitHub/vgi/examples/VGI_code/VGI_code_box_lqr_policy/c/build/out/libcpg.a(cpg_solve.c.o)) was built for newer macOS version (13.0) than being linked (11.0)\n",
      "ld: warning: object file (/Users/alan/Documents/GitHub/vgi/examples/VGI_code/VGI_code_box_lqr_policy/c/build/out/libcpg.a(amd_1.c.o)) was built for newer macOS version (13.0) than being linked (11.0)\n",
      "ld: warning: object file (/Users/alan/Documents/GitHub/vgi/examples/VGI_code/VGI_code_box_lqr_policy/c/build/out/libcpg.a(amd_2.c.o)) was built for newer macOS version (13.0) than being linked (11.0)\n",
      "ld: warning: object file (/Users/alan/Documents/GitHub/vgi/examples/VGI_code/VGI_code_box_lqr_policy/c/build/out/libcpg.a(amd_aat.c.o)) was built for newer macOS version (13.0) than being linked (11.0)\n",
      "ld: warning: object file (/Users/alan/Documents/GitHub/vgi/examples/VGI_code/VGI_code_box_lqr_policy/c/build/out/libcpg.a(amd_control.c.o)) was built for newer macOS version (13.0) than being linked (11.0)\n",
      "ld: warning: object file (/Users/alan/Documents/GitHub/vgi/examples/VGI_code/VGI_code_box_lqr_policy/c/build/out/libcpg.a(amd_defaults.c.o)) was built for newer macOS version (13.0) than being linked (11.0)\n",
      "ld: warning: object file (/Users/alan/Documents/GitHub/vgi/examples/VGI_code/VGI_code_box_lqr_policy/c/build/out/libcpg.a(amd_dump.c.o)) was built for newer macOS version (13.0) than being linked (11.0)\n",
      "ld: warning: object file (/Users/alan/Documents/GitHub/vgi/examples/VGI_code/VGI_code_box_lqr_policy/c/build/out/libcpg.a(amd_global.c.o)) was built for newer macOS version (13.0) than being linked (11.0)\n",
      "ld: warning: object file (/Users/alan/Documents/GitHub/vgi/examples/VGI_code/VGI_code_box_lqr_policy/c/build/out/libcpg.a(amd_info.c.o)) was built for newer macOS version (13.0) than being linked (11.0)\n",
      "ld: warning: object file (/Users/alan/Documents/GitHub/vgi/examples/VGI_code/VGI_code_box_lqr_policy/c/build/out/libcpg.a(amd_order.c.o)) was built for newer macOS version (13.0) than being linked (11.0)\n",
      "ld: warning: object file (/Users/alan/Documents/GitHub/vgi/examples/VGI_code/VGI_code_box_lqr_policy/c/build/out/libcpg.a(amd_post_tree.c.o)) was built for newer macOS version (13.0) than being linked (11.0)\n",
      "ld: warning: object file (/Users/alan/Documents/GitHub/vgi/examples/VGI_code/VGI_code_box_lqr_policy/c/build/out/libcpg.a(amd_postorder.c.o)) was built for newer macOS version (13.0) than being linked (11.0)\n",
      "ld: warning: object file (/Users/alan/Documents/GitHub/vgi/examples/VGI_code/VGI_code_box_lqr_policy/c/build/out/libcpg.a(amd_preprocess.c.o)) was built for newer macOS version (13.0) than being linked (11.0)\n",
      "ld: warning: object file (/Users/alan/Documents/GitHub/vgi/examples/VGI_code/VGI_code_box_lqr_policy/c/build/out/libcpg.a(amd_valid.c.o)) was built for newer macOS version (13.0) than being linked (11.0)\n",
      "ld: warning: object file (/Users/alan/Documents/GitHub/vgi/examples/VGI_code/VGI_code_box_lqr_policy/c/build/out/libcpg.a(ldl.c.o)) was built for newer macOS version (13.0) than being linked (11.0)\n",
      "ld: warning: object file (/Users/alan/Documents/GitHub/vgi/examples/VGI_code/VGI_code_box_lqr_policy/c/build/out/libcpg.a(cone.c.o)) was built for newer macOS version (13.0) than being linked (11.0)\n",
      "ld: warning: object file (/Users/alan/Documents/GitHub/vgi/examples/VGI_code/VGI_code_box_lqr_policy/c/build/out/libcpg.a(ctrlc.c.o)) was built for newer macOS version (13.0) than being linked (11.0)\n",
      "ld: warning: object file (/Users/alan/Documents/GitHub/vgi/examples/VGI_code/VGI_code_box_lqr_policy/c/build/out/libcpg.a(ecos.c.o)) was built for newer macOS version (13.0) than being linked (11.0)\n",
      "ld: warning: object file (/Users/alan/Documents/GitHub/vgi/examples/VGI_code/VGI_code_box_lqr_policy/c/build/out/libcpg.a(equil.c.o)) was built for newer macOS version (13.0) than being linked (11.0)\n",
      "ld: warning: object file (/Users/alan/Documents/GitHub/vgi/examples/VGI_code/VGI_code_box_lqr_policy/c/build/out/libcpg.a(expcone.c.o)) was built for newer macOS version (13.0) than being linked (11.0)\n",
      "ld: warning: object file (/Users/alan/Documents/GitHub/vgi/examples/VGI_code/VGI_code_box_lqr_policy/c/build/out/libcpg.a(kkt.c.o)) was built for newer macOS version (13.0) than being linked (11.0)\n",
      "ld: warning: object file (/Users/alan/Documents/GitHub/vgi/examples/VGI_code/VGI_code_box_lqr_policy/c/build/out/libcpg.a(preproc.c.o)) was built for newer macOS version (13.0) than being linked (11.0)\n",
      "ld: warning: object file (/Users/alan/Documents/GitHub/vgi/examples/VGI_code/VGI_code_box_lqr_policy/c/build/out/libcpg.a(spla.c.o)) was built for newer macOS version (13.0) than being linked (11.0)\n",
      "ld: warning: object file (/Users/alan/Documents/GitHub/vgi/examples/VGI_code/VGI_code_box_lqr_policy/c/build/out/libcpg.a(splamm.c.o)) was built for newer macOS version (13.0) than being linked (11.0)\n",
      "ld: warning: object file (/Users/alan/Documents/GitHub/vgi/examples/VGI_code/VGI_code_box_lqr_policy/c/build/out/libcpg.a(timer.c.o)) was built for newer macOS version (13.0) than being linked (11.0)\n",
      "ld: warning: object file (/Users/alan/Documents/GitHub/vgi/examples/VGI_code/VGI_code_box_lqr_policy/c/build/out/libcpg.a(wright_omega.c.o)) was built for newer macOS version (13.0) than being linked (11.0)\n",
      "ld: warning: object file (/Users/alan/Documents/GitHub/vgi/examples/VGI_code/VGI_code_box_lqr_policy/c/build/out/libcpg.a(ecos_bb.c.o)) was built for newer macOS version (13.0) than being linked (11.0)\n",
      "ld: warning: object file (/Users/alan/Documents/GitHub/vgi/examples/VGI_code/VGI_code_box_lqr_policy/c/build/out/libcpg.a(ecos_bb_preproc.c.o)) was built for newer macOS version (13.0) than being linked (11.0)\n"
     ]
    },
    {
     "name": "stdout",
     "output_type": "stream",
     "text": [
      "CVXPYgen finished compiling python wrapper.\n"
     ]
    }
   ],
   "source": [
    "n, m = 12, 3\n",
    "problem = BoxLQRProblem.create_problem_instance(n, m, seed=1, processes=5)\n",
    "J_lb, V_lb = problem.J_lb()\n",
    "\n",
    "# to create policies without compiling with cvxpygen, set compile=False\n",
    "# create CE-MPC policy\n",
    "mpc = problem.create_policy(lookahead=30, compile=True, name=\"box_lqr_mpc\")\n",
    "\n",
    "# create ADP policy\n",
    "cocp = problem.create_policy(compile=True, name=\"box_lqr_policy\", V=V_lb)"
   ]
  },
  {
   "cell_type": "markdown",
   "metadata": {},
   "source": [
    "# Run VGI"
   ]
  },
  {
   "cell_type": "code",
   "execution_count": 4,
   "metadata": {
    "scrolled": true
   },
   "outputs": [
    {
     "name": "stdout",
     "output_type": "stream",
     "text": [
      "It.\td(TV, V) \tdamping\t\tfit score\tcost\n",
      "1\t2.50e+00\t5.00e-01\t-1.14e+00\t2.11e+02\n",
      "2\t2.78e+00\t5.00e-01\t-1.99e+00\t1.36e+02\n",
      "3\t2.72e+00\t5.00e-01\t-3.88e+00\t9.23e+01\n",
      "4\t2.63e+00\t5.00e-01\t-5.28e+00\t7.90e+01\n",
      "5\t2.30e+00\t5.00e-01\t-5.25e+00\t6.91e+01\n",
      "6\t3.16e+00\t5.00e-01\t-8.62e+00\t6.19e+01\n",
      "7\t2.58e+00\t5.00e-01\t-1.01e+01\t5.58e+01\n",
      "8\t2.54e+00\t5.00e-01\t-1.11e+01\t5.26e+01\n",
      "9\t3.30e+00\t5.00e-01\t-1.60e+01\t5.10e+01\n",
      "10\t1.84e+00\t5.00e-01\t-1.10e+01\t4.63e+01\n",
      "11\t1.55e+00\t5.00e-01\t-1.15e+01\t4.61e+01\n",
      "12\t1.65e+00\t5.00e-01\t-1.22e+01\t4.55e+01\n",
      "13\t2.90e+00\t5.00e-01\t-1.20e+01\t4.51e+01\n",
      "14\t1.12e+00\t5.00e-01\t-1.41e+01\t4.21e+01\n",
      "15\t2.25e+00\t5.00e-01\t-1.87e+01\t4.07e+01\n",
      "16\t3.35e+00\t5.00e-01\t-1.81e+01\t3.78e+01\n",
      "17\t2.26e+00\t5.00e-01\t-2.25e+01\t3.60e+01\n",
      "18\t3.29e+00\t5.00e-01\t-2.03e+01\t3.49e+01\n",
      "19\t2.75e+00\t5.00e-01\t-2.14e+01\t3.41e+01\n",
      "20\t2.19e+00\t5.00e-01\t-1.68e+01\t3.39e+01\n",
      "21\t2.06e+00\t5.00e-01\t-2.19e+01\t3.44e+01\n",
      "22\t1.94e+00\t5.00e-01\t-2.12e+01\t3.39e+01\n",
      "23\t1.86e+00\t5.00e-01\t-2.13e+01\t3.37e+01\n",
      "24\t1.62e+00\t5.00e-01\t-2.04e+01\t3.37e+01\n",
      "25\t1.43e+00\t5.00e-01\t-1.91e+01\t3.33e+01\n",
      "26\t1.39e+00\t5.00e-01\t-1.74e+01\t3.40e+01\n",
      "27\t2.41e+00\t5.00e-01\t-1.54e+01\t3.40e+01\n",
      "28\t2.16e+00\t5.00e-01\t-1.95e+01\t3.44e+01\n",
      "29\t2.47e+00\t5.00e-01\t-2.21e+01\t3.56e+01\n",
      "30\t1.43e+00\t5.00e-01\t-1.75e+01\t3.41e+01\n",
      "31\t1.70e+00\t5.00e-01\t-1.83e+01\t3.37e+01\n",
      "32\t1.66e+00\t5.00e-01\t-2.20e+01\t3.33e+01\n",
      "33\t2.47e+00\t5.00e-01\t-1.86e+01\t3.33e+01\n",
      "34\t1.34e+00\t5.00e-01\t-1.92e+01\t3.25e+01\n",
      "35\t1.74e+00\t5.00e-01\t-2.33e+01\t3.30e+01\n",
      "36\t1.34e+00\t5.00e-01\t-1.84e+01\t3.29e+01\n",
      "37\t1.37e+00\t5.00e-01\t-1.82e+01\t3.23e+01\n",
      "38\t2.25e+00\t5.00e-01\t-1.81e+01\t3.24e+01\n",
      "39\t1.61e+00\t5.00e-01\t-2.10e+01\t3.22e+01\n",
      "40\t1.40e+00\t5.00e-01\t-1.91e+01\t3.23e+01\n"
     ]
    }
   ],
   "source": [
    "vgi = VGI(\n",
    "    problem,\n",
    "    cocp,\n",
    "    QuadGradReg(symmetric=True),\n",
    "    trajectory_len=50,\n",
    "    num_trajectories=1,\n",
    "    damping=0.5,\n",
    ")\n",
    "\n",
    "# evaluate the cost of the policy at every iteration -- set eval_freq to None to disable (expensive) cost evaluation\n",
    "vgi_policy = vgi(40, V0=QuadForm.eye(n), eval_freq=1, seed=0)"
   ]
  },
  {
   "cell_type": "markdown",
   "metadata": {},
   "source": [
    "# MPC and upper and lower bounds"
   ]
  },
  {
   "cell_type": "code",
   "execution_count": 5,
   "metadata": {},
   "outputs": [
    {
     "name": "stdout",
     "output_type": "stream",
     "text": [
      "lower bound: 20.03\n",
      "upper bound: 37.70\n",
      "mpc cost: 33.32\n"
     ]
    }
   ],
   "source": [
    "print(\"lower bound: {:.2f}\".format(J_lb))\n",
    "\n",
    "cocp.update_value(V_lb)\n",
    "J_ub = problem.cost(cocp, seed=1)\n",
    "print(\"upper bound: {:.2f}\".format(J_ub))\n",
    "\n",
    "mpc_cost = problem.cost(mpc, seed=1)\n",
    "print(\"mpc cost: {:.2f}\".format(mpc_cost))"
   ]
  },
  {
   "cell_type": "markdown",
   "metadata": {},
   "source": [
    "# Plot VGI progress"
   ]
  },
  {
   "cell_type": "code",
   "execution_count": 6,
   "metadata": {},
   "outputs": [
    {
     "data": {
      "image/png": "[encoded data removed]",
      "text/plain": [
       "<Figure size 800x500 with 1 Axes>"
      ]
     },
     "metadata": {},
     "output_type": "display_data"
    },
    {
     "name": "stdout",
     "output_type": "stream",
     "text": [
      "vgi 32.259899270909614 steps 2000\n",
      "251.22112372869157 32.259899270909614 -0.8715876324725426\n",
      "-0.03183947262218582\n"
     ]
    }
   ],
   "source": [
    "vgi_steps = [50 * i for i in range(len(vgi.costs))]\n",
    "\n",
    "plt.figure(figsize=(8, 5))\n",
    "plt.hlines(\n",
    "    J_ub,\n",
    "    0,\n",
    "    vgi_steps[-1],\n",
    "    label=\"Upper bound\",\n",
    "    linestyles=\"dotted\",\n",
    "    color=\"green\",\n",
    "    linewidth=4,\n",
    ")\n",
    "plt.hlines(\n",
    "    J_lb,\n",
    "    0,\n",
    "    vgi_steps[-1],\n",
    "    label=\"Lower bound\",\n",
    "    linestyles=\"solid\",\n",
    "    color=\"purple\",\n",
    "    linewidth=4,\n",
    ")\n",
    "plt.hlines(\n",
    "    mpc_cost,\n",
    "    0,\n",
    "    vgi_steps[-1],\n",
    "    label=\"CE-MPC\",\n",
    "    linestyles=\"dashed\",\n",
    "    color=\"orange\",\n",
    "    linewidth=4,\n",
    ")\n",
    "plt.step(vgi_steps, vgi.costs, label=\"VGI\", linewidth=4)\n",
    "plt.grid()\n",
    "plt.legend()\n",
    "plt.ylabel(\"Cost\")\n",
    "plt.xlabel(\"Total policy evaluations\")\n",
    "plt.tight_layout()\n",
    "plt.savefig(\"lqr_vgi_ce.pdf\", dpi=500)\n",
    "plt.show()\n",
    "\n",
    "print(\"vgi\", vgi.costs[-1], \"steps\", vgi_steps[-1])\n",
    "print(vgi.costs[0], vgi.costs[-1], (vgi.costs[-1] - vgi.costs[0]) / vgi.costs[0])\n",
    "print((vgi.costs[-1] - mpc_cost) / mpc_cost)"
   ]
  },
  {
   "cell_type": "markdown",
   "metadata": {},
   "source": [
    "# Fitted value iteration"
   ]
  },
  {
   "cell_type": "code",
   "execution_count": 7,
   "metadata": {
    "scrolled": true
   },
   "outputs": [
    {
     "name": "stdout",
     "output_type": "stream",
     "text": [
      "It.\td(TV, V) \tdamping\t\tfit score\tcost\n",
      "1\t3.01e+00\t5.00e-01\t-2.16e+00\t1.85e+02\n",
      "2\t5.35e+00\t5.00e-01\t-4.36e+00\n",
      "3\t3.77e+00\t5.00e-01\t-3.07e+00\n",
      "4\t5.39e+00\t5.00e-01\t-1.07e+01\n",
      "5\t3.93e+00\t5.00e-01\t-3.79e+00\t6.25e+01\n",
      "6\t5.35e+00\t5.00e-01\t-8.73e+00\n",
      "7\t6.43e+00\t5.00e-01\t-7.30e+00\n",
      "8\t6.55e+00\t5.00e-01\t-9.01e+00\n",
      "9\t4.20e+00\t5.00e-01\t-5.05e+00\n",
      "10\t6.90e+00\t5.00e-01\t-1.50e+01\t5.04e+01\n",
      "11\t1.04e+01\t5.00e-01\t-1.84e+01\n",
      "12\t5.20e+00\t5.00e-01\t-6.87e+00\n",
      "13\t7.27e+00\t5.00e-01\t-1.77e+01\n",
      "14\t8.23e+00\t5.00e-01\t-1.20e+01\n",
      "15\t8.56e+00\t5.00e-01\t-1.14e+01\t4.03e+01\n",
      "16\t8.97e+00\t5.00e-01\t-1.28e+01\n",
      "17\t9.37e+00\t5.00e-01\t-1.57e+01\n",
      "18\t4.97e+00\t5.00e-01\t-8.17e+00\n",
      "19\t6.56e+00\t5.00e-01\t-9.65e+00\n",
      "20\t1.32e+01\t5.00e-01\t-2.74e+01\t3.44e+01\n",
      "21\t6.26e+00\t5.00e-01\t-8.03e+00\n",
      "22\t6.02e+00\t5.00e-01\t-9.80e+00\n",
      "23\t6.27e+00\t5.00e-01\t-9.38e+00\n",
      "24\t9.08e+00\t5.00e-01\t-1.05e+01\n",
      "25\t9.32e+00\t5.00e-01\t-1.27e+01\t3.36e+01\n",
      "26\t9.61e+00\t5.00e-01\t-1.27e+01\n",
      "27\t8.35e+00\t5.00e-01\t-1.06e+01\n",
      "28\t5.94e+00\t5.00e-01\t-7.39e+00\n",
      "29\t5.76e+00\t5.00e-01\t-8.99e+00\n",
      "30\t5.16e+00\t5.00e-01\t-8.44e+00\t3.27e+01\n",
      "31\t7.22e+00\t5.00e-01\t-9.65e+00\n",
      "32\t7.07e+00\t5.00e-01\t-9.53e+00\n",
      "33\t6.37e+00\t5.00e-01\t-9.08e+00\n",
      "34\t6.92e+00\t5.00e-01\t-8.15e+00\n",
      "35\t7.10e+00\t5.00e-01\t-9.92e+00\t3.26e+01\n",
      "36\t1.16e+01\t5.00e-01\t-1.40e+01\n",
      "37\t1.07e+01\t5.00e-01\t-1.85e+01\n",
      "38\t6.94e+00\t5.00e-01\t-9.18e+00\n",
      "39\t7.64e+00\t5.00e-01\t-9.52e+00\n",
      "40\t6.66e+00\t5.00e-01\t-1.10e+01\t3.31e+01\n",
      "41\t6.37e+00\t5.00e-01\t-1.01e+01\n",
      "42\t6.63e+00\t5.00e-01\t-8.48e+00\n",
      "43\t6.17e+00\t5.00e-01\t-8.82e+00\n",
      "44\t9.54e+00\t5.00e-01\t-1.49e+01\n",
      "45\t6.37e+00\t5.00e-01\t-1.15e+01\t3.21e+01\n",
      "46\t7.91e+00\t5.00e-01\t-1.12e+01\n",
      "47\t9.07e+00\t5.00e-01\t-1.20e+01\n",
      "48\t9.15e+00\t5.00e-01\t-1.10e+01\n",
      "49\t7.30e+00\t5.00e-01\t-9.50e+00\n",
      "50\t6.87e+00\t5.00e-01\t-9.87e+00\t3.22e+01\n"
     ]
    }
   ],
   "source": [
    "fvi = FVI(\n",
    "    problem,\n",
    "    cocp,\n",
    "    QuadReg(symmetric=True),\n",
    "    trajectory_len=200,\n",
    "    num_trajectories=2,\n",
    "    damping=0.5,\n",
    ")\n",
    "fvi_policy = fvi(50, V0=QuadForm.eye(n), eval_freq=5, seed=1)"
   ]
  },
  {
   "cell_type": "markdown",
   "metadata": {},
   "source": [
    "# COCP gradient"
   ]
  },
  {
   "cell_type": "code",
   "execution_count": 8,
   "metadata": {},
   "outputs": [
    {
     "name": "stdout",
     "output_type": "stream",
     "text": [
      "it: 001, test loss: 303.467, policy cost: 205.112\n",
      "it: 002\n",
      "it: 003\n",
      "it: 004\n",
      "it: 005\n",
      "it: 006, test loss: 128.088, policy cost: 54.169\n",
      "it: 007\n",
      "it: 008\n",
      "it: 009\n",
      "it: 010\n",
      "it: 011, test loss: 78.403, policy cost: 38.790\n",
      "it: 012\n",
      "it: 013\n",
      "it: 014\n",
      "it: 015\n",
      "it: 016, test loss: 63.684, policy cost: 36.320\n",
      "it: 017\n",
      "it: 018\n",
      "it: 019\n",
      "it: 020\n",
      "it: 021, test loss: 59.556, policy cost: 36.772\n",
      "it: 022\n",
      "it: 023\n",
      "it: 024\n",
      "it: 025\n",
      "it: 026, test loss: 58.575, policy cost: 35.627\n",
      "it: 027\n",
      "it: 028\n",
      "it: 029\n",
      "it: 030\n",
      "it: 031, test loss: 60.976, policy cost: 34.960\n",
      "it: 032\n",
      "it: 033\n",
      "it: 034\n",
      "it: 035\n",
      "it: 036, test loss: 61.794, policy cost: 34.289\n",
      "it: 037\n",
      "it: 038\n",
      "it: 039\n",
      "it: 040\n",
      "it: 041, test loss: 61.514, policy cost: 34.257\n",
      "it: 042\n",
      "it: 043\n",
      "it: 044\n",
      "it: 045\n",
      "it: 046, test loss: 59.819, policy cost: 34.052\n",
      "it: 047\n",
      "it: 048\n",
      "it: 049\n",
      "it: 050\n",
      "it: 051, test loss: 58.129, policy cost: 34.206\n",
      "it: 052\n",
      "it: 053\n",
      "it: 054\n",
      "it: 055\n",
      "it: 056, test loss: 52.818, policy cost: 33.391\n",
      "it: 057\n",
      "it: 058\n",
      "it: 059\n",
      "it: 060\n",
      "it: 061, test loss: 49.256, policy cost: 34.177\n",
      "it: 062\n",
      "it: 063\n",
      "it: 064\n",
      "it: 065\n",
      "it: 066, test loss: 48.484, policy cost: 34.190\n",
      "it: 067\n",
      "it: 068\n",
      "it: 069\n",
      "it: 070\n",
      "it: 071, test loss: 48.323, policy cost: 32.664\n",
      "it: 072\n",
      "it: 073\n",
      "it: 074\n",
      "it: 075\n",
      "it: 076, test loss: 48.713, policy cost: 32.733\n",
      "it: 077\n",
      "it: 078\n",
      "it: 079\n",
      "it: 080, test loss: 50.776, policy cost: 33.182\n"
     ]
    }
   ],
   "source": [
    "trajectory_len = 100\n",
    "num_trajectories = 3\n",
    "num_iters = 80\n",
    "learning_rate = 1e-2\n",
    "cocp_grad = box_lqr_cocp_grad(\n",
    "    problem,\n",
    "    trajectory_len,\n",
    "    num_iters,\n",
    "    learning_rate,\n",
    "    seed=2,\n",
    "    V0=QuadForm.eye(n),\n",
    "    num_trajectories=num_trajectories,\n",
    "    policy=cocp,\n",
    "    eval_freq=5,\n",
    ")"
   ]
  },
  {
   "cell_type": "markdown",
   "metadata": {},
   "source": [
    "# Save data"
   ]
  },
  {
   "cell_type": "code",
   "execution_count": 9,
   "metadata": {},
   "outputs": [],
   "source": [
    "import pickle\n",
    "\n",
    "results = {\n",
    "    \"vgi\": {\"costs\": vgi.costs, \"iterates\": vgi.iterates},\n",
    "    \"fvi\": {\"costs\": fvi.costs, \"iterates\": fvi.iterates},\n",
    "    \"cocp-grad\": cocp_grad,\n",
    "}\n",
    "pickle.dump(results, open(\"box_lqr_results.pkl\", \"wb\"))"
   ]
  }
 ],
 "metadata": {
  "kernelspec": {
   "display_name": "Python 3 (ipykernel)",
   "language": "python",
   "name": "python3"
  },
  "language_info": {
   "codemirror_mode": {
    "name": "ipython",
    "version": 3
   },
   "file_extension": ".py",
   "mimetype": "text/x-python",
   "name": "python",
   "nbconvert_exporter": "python",
   "pygments_lexer": "ipython3",
   "version": "3.10.8"
  }
 },
 "nbformat": 4,
 "nbformat_minor": 2
}
